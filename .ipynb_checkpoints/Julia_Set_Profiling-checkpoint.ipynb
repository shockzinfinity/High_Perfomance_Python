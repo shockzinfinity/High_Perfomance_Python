{
 "cells": [
  {
   "cell_type": "markdown",
   "metadata": {},
   "source": [
    "# 쥘리아 함수로 프로파일링\n",
    "- 프로파일링(profiling, 프로그램 프로파일링/소프트웨어 프로파일링) 또는 성능 분석은 프로그램의 시간 복잡도 및 공간(메모리), 특정 명령어 이용, 함수 호출의 주기와 빈도 등을 측정하는 동적 프로그램 분석의 한 형태이다. 프로파일링 정보는 대개가 프로그램 최적화를 보조하기 위해 사용된다. 프로파일링은 프로파일러(profiler)라는 도구를 사용하여 프로그램 소스 코드나 이진 실행 파일을 계측 분석함으로써 수행한다.\n",
    "- 쥘리아 함수는 테스트를 위한 함수이다. 나도 잘 모른다.."
   ]
  },
  {
   "cell_type": "code",
   "execution_count": 36,
   "metadata": {},
   "outputs": [],
   "source": [
    "import time\n",
    "\n",
    "# 계산할 복소평면 영역\n",
    "x1, x2, y1, y2 = -1.8, 1.8, -1.8, 1.8\n",
    "c_real, c_imag = -0.62772, -.42193"
   ]
  },
  {
   "cell_type": "code",
   "execution_count": 43,
   "metadata": {},
   "outputs": [],
   "source": [
    "def calc_pure_python(desired_width, max_iterations):\n",
    "    \"\"\"\n",
    "    복소 좌표(zs)와 복소 인자(cs) 리스트를 만들고,\n",
    "    쥘리아 집합을 생성한 뒤 출력한다.\n",
    "    \"\"\"\n",
    "    x_step = (float(x2-x1) / float(desired_width))\n",
    "    y_step = (float(y1-y2) / float(desired_width))\n",
    "    \n",
    "    x = []\n",
    "    y = []\n",
    "    ycoord= y2\n",
    "    while ycoord > y1:\n",
    "        y.append(ycoord)\n",
    "        ycoord += y_step\n",
    "    \n",
    "    xcoord = x1\n",
    "    while xcoord < x2:\n",
    "        x.append(xcoord)\n",
    "        xcoord += x_step\n",
    "\n",
    "#     좌표 리스트와 각 셀에 대한 초기 조건을 만든다.\n",
    "#     초기 조건은 상수이며 쉽게 제거할 수 있는 점을 주목하자\n",
    "#     우리가 만든 함수의 몇몇 입력을 사용한 실제 시나리오를 시뮬레이션할 때 사용한다.\n",
    "    \n",
    "    zs = []\n",
    "    cs = []\n",
    "    for ycoord in y:\n",
    "        for xcoord in x:\n",
    "            zs.append(complex(xcoord, ycoord))\n",
    "            cs.append(complex(c_real, c_imag))\n",
    "\n",
    "    print (\"Length of x:\", len(x))\n",
    "    print (\"Total elements:\", len(zs))\n",
    "    \n",
    "    start_time = time.time()\n",
    "    output = calculate_z_serial_purepython(max_iterations, zs, cs)\n",
    "    end_time = time.time()\n",
    "    secs = end_time - start_time\n",
    "\n",
    "    print (\"calculate_z_serial_purepython\" + \" took\", secs, \"seconds\")\n",
    "\n",
    "    # 1000^2 grid에서 300번의 반복을 가정한 값\n",
    "    # 제한된 입력으로 작업할 경우 발생할 수 있는 사소한 에러를 잡기 위함\n",
    "    assert sum(output) == 33219980 # 같은지 검사히기"
   ]
  },
  {
   "cell_type": "code",
   "execution_count": 44,
   "metadata": {},
   "outputs": [],
   "source": [
    "def calculate_z_serial_purepython(maxiter, zs, cs):\n",
    "    \"\"\"쥘리아 갱신 규칙을 사용해서 output 리스트 계산하기\"\"\"\n",
    "    output = [0] * len(zs) # 미리 선언\n",
    "    for i in range(len(zs)):\n",
    "        n = 0\n",
    "        z = zs[i]\n",
    "        c = cs[i]\n",
    "        while abs(z) < 2 and n < maxiter:\n",
    "            z = z * z + c\n",
    "            n += 1\n",
    "        output[i] = n\n",
    "    return output"
   ]
  },
  {
   "cell_type": "code",
   "execution_count": 45,
   "metadata": {},
   "outputs": [
    {
     "name": "stdout",
     "output_type": "stream",
     "text": [
      "실행 결과\n",
      "Length of x: 1000\n",
      "Total elements: 1000000\n",
      "calculate_z_serial_purepython took 5.506437063217163 seconds\n"
     ]
    }
   ],
   "source": [
    "if __name__ == \"__main__\":\n",
    "    print(\"실행 결과\")\n",
    "    calc_pure_python(desired_width=1000, max_iterations=300)"
   ]
  },
  {
   "cell_type": "markdown",
   "metadata": {},
   "source": [
    "# 여기까지 기본함수로 쥘리아 함수의 수행시간을 print문으로 출력해서 확인해봄\n",
    "# 다음 부터는 다양한 방법으로 프로파일링 시도"
   ]
  },
  {
   "cell_type": "code",
   "execution_count": 55,
   "metadata": {},
   "outputs": [],
   "source": [
    "# @timefn\n",
    "def calc_pure_python(desired_width, max_iterations):\n",
    "    \"\"\"\n",
    "    복소 좌표(zs)와 복소 인자(cs) 리스트를 만들고,\n",
    "    쥘리아 집합을 생성한 뒤 출력한다.\n",
    "    \"\"\"\n",
    "    x_step = (float(x2-x1) / float(desired_width))\n",
    "    y_step = (float(y1-y2) / float(desired_width))\n",
    "    \n",
    "    x = []\n",
    "    y = []\n",
    "    ycoord= y2\n",
    "    while ycoord > y1:\n",
    "        y.append(ycoord)\n",
    "        ycoord += y_step\n",
    "    \n",
    "    xcoord = x1\n",
    "    while xcoord < x2:\n",
    "        x.append(xcoord)\n",
    "        xcoord += x_step\n",
    "\n",
    "#     좌표 리스트와 각 셀에 대한 초기 조건을 만든다.\n",
    "#     초기 조건은 상수이며 쉽게 제거할 수 있는 점을 주목하자\n",
    "#     우리가 만든 함수의 몇몇 입력을 사용한 실제 시나리오를 시뮬레이션할 때 사용한다.\n",
    "    \n",
    "    zs = []\n",
    "    cs = []\n",
    "    for ycoord in y:\n",
    "        for xcoord in x:\n",
    "            zs.append(complex(xcoord, ycoord))\n",
    "            cs.append(complex(c_real, c_imag))\n",
    "\n",
    "    print (\"Length of x:\", len(x))\n",
    "    print (\"Total elements:\", len(zs))\n",
    "    \n",
    "    start_time = time.time()\n",
    "    output = calculate_z_serial_purepython(max_iterations, zs, cs)\n",
    "    end_time = time.time()\n",
    "    secs = end_time - start_time\n",
    "\n",
    "    print (\"calculate_z_serial_purepython\" + \" took\", secs, \"seconds\")\n",
    "\n",
    "    # 1000^2 grid에서 300번의 반복을 가정한 값\n",
    "    # 제한된 입력으로 작업할 경우 발생할 수 있는 사소한 에러를 잡기 위함\n",
    "    assert sum(output) == 33219980 # 같은지 검사히기"
   ]
  },
  {
   "cell_type": "code",
   "execution_count": 47,
   "metadata": {},
   "outputs": [],
   "source": [
    "# 시간 측정을 자동화 하기위한 decorater\n",
    "# decorater 함수를 만들고 실행하고자 하는 함수 위에 @함수 써주면 된다.\n",
    "from functools import wraps\n",
    "def timefn(fn):\n",
    "    @wraps(fn)\n",
    "    def measure_time(*args, **kwargs):\n",
    "        t1 = time.time()\n",
    "        result = fn(*args, **kwargs)\n",
    "        t2 = time.time()\n",
    "        print(\"@timefn: {} took {} seconds\".format(fn.__name__, t2-t1))\n",
    "    return measure_time"
   ]
  },
  {
   "cell_type": "code",
   "execution_count": 48,
   "metadata": {},
   "outputs": [
    {
     "name": "stdout",
     "output_type": "stream",
     "text": [
      "Length of x: 1000\n",
      "Total elements: 1000000\n",
      "calculate_z_serial_purepython took 5.503308057785034 seconds\n",
      "@timefn: calc_pure_python took 5.9068310260772705 seconds\n"
     ]
    }
   ],
   "source": [
    "calc_pure_python(desired_width=1000, max_iterations=300)"
   ]
  },
  {
   "cell_type": "code",
   "execution_count": 56,
   "metadata": {},
   "outputs": [
    {
     "name": "stdout",
     "output_type": "stream",
     "text": [
      "Length of x: 1000\n",
      "Total elements: 1000000\n",
      "calculate_z_serial_purepython took 5.164790153503418 seconds\n",
      "Length of x: 1000\n",
      "Total elements: 1000000\n",
      "calculate_z_serial_purepython took 5.076498985290527 seconds\n",
      "Length of x: 1000\n",
      "Total elements: 1000000\n",
      "calculate_z_serial_purepython took 5.100964069366455 seconds\n",
      "Length of x: 1000\n",
      "Total elements: 1000000\n",
      "calculate_z_serial_purepython took 5.077287197113037 seconds\n",
      "Length of x: 1000\n",
      "Total elements: 1000000\n",
      "calculate_z_serial_purepython took 5.083536148071289 seconds\n",
      "Length of x: 1000\n",
      "Total elements: 1000000\n",
      "calculate_z_serial_purepython took 5.10014796257019 seconds\n",
      "Length of x: 1000\n",
      "Total elements: 1000000\n",
      "calculate_z_serial_purepython took 5.1143958568573 seconds\n",
      "Length of x: 1000\n",
      "Total elements: 1000000\n",
      "calculate_z_serial_purepython took 5.098169803619385 seconds\n",
      "5.5 s ± 10.2 ms per loop (mean ± std. dev. of 7 runs, 1 loop each)\n"
     ]
    }
   ],
   "source": [
    "# 위에 데코레이터(@timefn) 제외하고 실행 \n",
    "# python -m timeit으로도 실행 가능\n",
    "\n",
    "%timeit calc_pure_python(desired_width=1000, max_iterations=300)"
   ]
  },
  {
   "cell_type": "code",
   "execution_count": 57,
   "metadata": {},
   "outputs": [
    {
     "name": "stdout",
     "output_type": "stream",
     "text": [
      "실행 결과\n",
      "Length of x: 1000\n",
      "Total elements: 1000000\n",
      "calculate_z_serial_purepython took 5.076694965362549 seconds\n",
      "@timefn: calc_pure_python took 5.495759010314941 seconds\n",
      "Length of x: 1000\n",
      "Total elements: 1000000\n",
      "calculate_z_serial_purepython took 5.097292900085449 seconds\n",
      "@timefn: calc_pure_python took 5.511453151702881 seconds\n",
      "real        11.03\n",
      "user        10.94\n",
      "sys          0.08\n"
     ]
    }
   ],
   "source": [
    "# unix time 명령어를 통한 시간측정\n",
    "'''\n",
    "real: 경과된 시간\n",
    "user: CPU가 커널 함수 외 작업 처리 시간\n",
    "sys: 커널 함수 수행 시간\n",
    "나머지: I/O 를 기다리는 시간\n",
    "'''\n",
    "! /usr/bin/time -p python 2Julia\\ Set.py"
   ]
  },
  {
   "cell_type": "code",
   "execution_count": 58,
   "metadata": {},
   "outputs": [
    {
     "name": "stdout",
     "output_type": "stream",
     "text": [
      "실행 결과\n",
      "Length of x: 1000\n",
      "Total elements: 1000000\n",
      "calculate_z_serial_purepython took 8.293734788894653 seconds\n",
      "@timefn: calc_pure_python took 8.913086891174316 seconds\n",
      "Length of x: 1000\n",
      "Total elements: 1000000\n",
      "calculate_z_serial_purepython took 8.27128791809082 seconds\n",
      "@timefn: calc_pure_python took 8.890289306640625 seconds\n",
      "         72444016 function calls in 17.804 seconds\n",
      "\n",
      "   Ordered by: cumulative time\n",
      "\n",
      "   ncalls  tottime  percall  cumtime  percall filename:lineno(function)\n",
      "        1    0.000    0.000   17.804   17.804 {built-in method builtins.exec}\n",
      "        1    0.000    0.000   17.804   17.804 2Julia Set.py:9(<module>)\n",
      "        2    0.056    0.028   17.803    8.902 2Julia Set.py:20(measure_time)\n",
      "        2    0.951    0.476   17.747    8.874 2Julia Set.py:29(calc_pure_python)\n",
      "        2   12.899    6.449   16.565    8.283 2Julia Set.py:79(calculate_z_serial_purepython)\n",
      " 68439960    3.666    0.000    3.666    0.000 {built-in method builtins.abs}\n",
      "  4004000    0.223    0.000    0.223    0.000 {method 'append' of 'list' objects}\n",
      "        2    0.008    0.004    0.008    0.004 {built-in method builtins.sum}\n",
      "        9    0.000    0.000    0.000    0.000 {built-in method builtins.print}\n",
      "        2    0.000    0.000    0.000    0.000 {method 'format' of 'str' objects}\n",
      "        1    0.000    0.000    0.000    0.000 2Julia Set.py:19(timefn)\n",
      "        1    0.000    0.000    0.000    0.000 functools.py:37(update_wrapper)\n",
      "        8    0.000    0.000    0.000    0.000 {built-in method time.time}\n",
      "        8    0.000    0.000    0.000    0.000 {built-in method builtins.len}\n",
      "        7    0.000    0.000    0.000    0.000 {built-in method builtins.getattr}\n",
      "        1    0.000    0.000    0.000    0.000 <frozen importlib._bootstrap>:1009(_handle_fromlist)\n",
      "        1    0.000    0.000    0.000    0.000 {built-in method builtins.hasattr}\n",
      "        5    0.000    0.000    0.000    0.000 {built-in method builtins.setattr}\n",
      "        1    0.000    0.000    0.000    0.000 functools.py:67(wraps)\n",
      "        1    0.000    0.000    0.000    0.000 {method 'disable' of '_lsprof.Profiler' objects}\n",
      "        1    0.000    0.000    0.000    0.000 {method 'update' of 'dict' objects}\n",
      "\n",
      "\n"
     ]
    }
   ],
   "source": [
    "# cProfile 모듈 사용하기\n",
    "!python -m cProfile -s cumulative 2Julia\\ Set.py\n",
    "# 누적 소비 시간으로 정렬 되어 주로 소비하는 곳이 어디인지 쉽게 찾을 수 있음\n",
    "# append, abs가 매번호출돼서 호출횟수가 엄청 많았음\n",
    "# calculate_z_serial_purepython에서 시간이 많이 소요됨"
   ]
  },
  {
   "cell_type": "code",
   "execution_count": 61,
   "metadata": {},
   "outputs": [
    {
     "name": "stdout",
     "output_type": "stream",
     "text": [
      "Length of x: 1000\n",
      "Total elements: 1000000\n",
      "calculate_z_serial_purepython took 16.57469916343689 seconds\n",
      "Timer unit: 1e-06 s\n",
      "\n",
      "Total time: 18.0771 s\n",
      "File: <ipython-input-55-23c61e89ea41>\n",
      "Function: calc_pure_python at line 2\n",
      "\n",
      "Line #      Hits         Time  Per Hit   % Time  Line Contents\n",
      "==============================================================\n",
      "     2                                           def calc_pure_python(desired_width, max_iterations):\n",
      "     3                                               \"\"\"\n",
      "     4                                               복소 좌표(zs)와 복소 인자(cs) 리스트를 만들고,\n",
      "     5                                               쥘리아 집합을 생성한 뒤 출력한다.\n",
      "     6                                               \"\"\"\n",
      "     7         1          3.0      3.0      0.0      x_step = (float(x2-x1) / float(desired_width))\n",
      "     8         1          1.0      1.0      0.0      y_step = (float(y1-y2) / float(desired_width))\n",
      "     9                                               \n",
      "    10         1          1.0      1.0      0.0      x = []\n",
      "    11         1          1.0      1.0      0.0      y = []\n",
      "    12         1          1.0      1.0      0.0      ycoord= y2\n",
      "    13      1001        374.0      0.4      0.0      while ycoord > y1:\n",
      "    14      1000        400.0      0.4      0.0          y.append(ycoord)\n",
      "    15      1000        379.0      0.4      0.0          ycoord += y_step\n",
      "    16                                               \n",
      "    17         1          1.0      1.0      0.0      xcoord = x1\n",
      "    18      1001        609.0      0.6      0.0      while xcoord < x2:\n",
      "    19      1000        414.0      0.4      0.0          x.append(xcoord)\n",
      "    20      1000        378.0      0.4      0.0          xcoord += x_step\n",
      "    21                                           \n",
      "    22                                           #     좌표 리스트와 각 셀에 대한 초기 조건을 만든다.\n",
      "    23                                           #     초기 조건은 상수이며 쉽게 제거할 수 있는 점을 주목하자\n",
      "    24                                           #     우리가 만든 함수의 몇몇 입력을 사용한 실제 시나리오를 시뮬레이션할 때 사용한다.\n",
      "    25                                               \n",
      "    26         1          1.0      1.0      0.0      zs = []\n",
      "    27         1          0.0      0.0      0.0      cs = []\n",
      "    28      1001        428.0      0.4      0.0      for ycoord in y:\n",
      "    29   1001000     352066.0      0.4      1.9          for xcoord in x:\n",
      "    30   1000000     556388.0      0.6      3.1              zs.append(complex(xcoord, ycoord))\n",
      "    31   1000000     586730.0      0.6      3.2              cs.append(complex(c_real, c_imag))\n",
      "    32                                           \n",
      "    33         1        107.0    107.0      0.0      print (\"Length of x:\", len(x))\n",
      "    34         1         76.0     76.0      0.0      print (\"Total elements:\", len(zs))\n",
      "    35                                               \n",
      "    36         1          3.0      3.0      0.0      start_time = time.time()\n",
      "    37         1   16574678.0 16574678.0     91.7      output = calculate_z_serial_purepython(max_iterations, zs, cs)\n",
      "    38         1          4.0      4.0      0.0      end_time = time.time()\n",
      "    39         1          1.0      1.0      0.0      secs = end_time - start_time\n",
      "    40                                           \n",
      "    41         1        149.0    149.0      0.0      print (\"calculate_z_serial_purepython\" + \" took\", secs, \"seconds\")\n",
      "    42                                           \n",
      "    43                                               # 1000^2 grid에서 300번의 반복을 가정한 값\n",
      "    44                                               # 제한된 입력으로 작업할 경우 발생할 수 있는 사소한 에러를 잡기 위함\n",
      "    45         1       3867.0   3867.0      0.0      assert sum(output) == 33219980 # 같은지 검사히기\n",
      "\n"
     ]
    },
    {
     "data": {
      "text/plain": [
       "'\\n출처 : https://stackoverflow.com/questions/23885147/how-do-i-use-line-profiler-from-robert-kern\\n\\n오래 걸리지만 \\n\\n'"
      ]
     },
     "execution_count": 61,
     "metadata": {},
     "output_type": "execute_result"
    }
   ],
   "source": [
    "# line_profiler 한 줄씩 측정하기\n",
    "# !pip install line_profiler\n",
    "# 현재 pip install이 되지 않는다.\n",
    "'''\n",
    "git clone https://github.com/rkern/line_profiler.git\n",
    "find line_profiler -name '*.pyx' -exec cython {} \\;\n",
    "cd line_profiler\n",
    "pip install . --user\n",
    "pip install line_profiler\n",
    "이 방식으로 하도록한다.\n",
    "\n",
    "cython이 설치되지 않았다면 pip install cython후 실행하도록 한다!\n",
    "\n",
    "출처: https://github.com/rkern/line_profiler\n",
    "'''\n",
    "\n",
    "from line_profiler import LineProfiler\n",
    "\n",
    "lp = LineProfiler()\n",
    "lp_wrapper = lp(calc_pure_python)\n",
    "lp_wrapper(desired_width=1000, max_iterations=300)\n",
    "lp.print_stats()\n",
    "\n",
    "'''\n",
    "출처 : https://stackoverflow.com/questions/23885147/how-do-i-use-line-profiler-from-robert-kern\n",
    "\n",
    "오래 걸리지만 각 라인의 수행 결과를 알기 편하다.\n",
    "calculate_z_serial_purepython 에서 90퍼센트 이상의 시간을 쏟아부었고 그안에서도 다시 프로파일링 해나가는 과정이 필요하다.\n",
    "\n",
    "여태까지 한과정은 어느 코드에 문제가 있는지 살펴보기 위함이였다! 코드를 수정하는 방법은 차근차근 업데이트 해나갈 예정이다!\n",
    "'''"
   ]
  },
  {
   "cell_type": "code",
   "execution_count": null,
   "metadata": {},
   "outputs": [],
   "source": []
  },
  {
   "cell_type": "code",
   "execution_count": null,
   "metadata": {},
   "outputs": [],
   "source": []
  }
 ],
 "metadata": {
  "kernelspec": {
   "display_name": "Python 3",
   "language": "python",
   "name": "python3"
  },
  "language_info": {
   "codemirror_mode": {
    "name": "ipython",
    "version": 3
   },
   "file_extension": ".py",
   "mimetype": "text/x-python",
   "name": "python",
   "nbconvert_exporter": "python",
   "pygments_lexer": "ipython3",
   "version": "3.7.4"
  }
 },
 "nbformat": 4,
 "nbformat_minor": 4
}
